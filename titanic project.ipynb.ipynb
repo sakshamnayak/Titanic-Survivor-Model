{
 "cells": [
  {
   "cell_type": "code",
   "execution_count": 1,
   "metadata": {
    "scrolled": true
   },
   "outputs": [
    {
     "data": {
      "text/html": [
       "<div>\n",
       "<style scoped>\n",
       "    .dataframe tbody tr th:only-of-type {\n",
       "        vertical-align: middle;\n",
       "    }\n",
       "\n",
       "    .dataframe tbody tr th {\n",
       "        vertical-align: top;\n",
       "    }\n",
       "\n",
       "    .dataframe thead th {\n",
       "        text-align: right;\n",
       "    }\n",
       "</style>\n",
       "<table border=\"1\" class=\"dataframe\">\n",
       "  <thead>\n",
       "    <tr style=\"text-align: right;\">\n",
       "      <th></th>\n",
       "      <th>PassengerId</th>\n",
       "      <th>Survived</th>\n",
       "      <th>Pclass</th>\n",
       "      <th>Name</th>\n",
       "      <th>Sex</th>\n",
       "      <th>Age</th>\n",
       "      <th>SibSp</th>\n",
       "      <th>Parch</th>\n",
       "      <th>Ticket</th>\n",
       "      <th>Fare</th>\n",
       "      <th>Cabin</th>\n",
       "      <th>Embarked</th>\n",
       "    </tr>\n",
       "  </thead>\n",
       "  <tbody>\n",
       "    <tr>\n",
       "      <th>0</th>\n",
       "      <td>1</td>\n",
       "      <td>0</td>\n",
       "      <td>3</td>\n",
       "      <td>Braund, Mr. Owen Harris</td>\n",
       "      <td>male</td>\n",
       "      <td>22.0</td>\n",
       "      <td>1</td>\n",
       "      <td>0</td>\n",
       "      <td>A/5 21171</td>\n",
       "      <td>7.2500</td>\n",
       "      <td>NaN</td>\n",
       "      <td>S</td>\n",
       "    </tr>\n",
       "    <tr>\n",
       "      <th>1</th>\n",
       "      <td>2</td>\n",
       "      <td>1</td>\n",
       "      <td>1</td>\n",
       "      <td>Cumings, Mrs. John Bradley (Florence Briggs Th...</td>\n",
       "      <td>female</td>\n",
       "      <td>38.0</td>\n",
       "      <td>1</td>\n",
       "      <td>0</td>\n",
       "      <td>PC 17599</td>\n",
       "      <td>71.2833</td>\n",
       "      <td>C85</td>\n",
       "      <td>C</td>\n",
       "    </tr>\n",
       "    <tr>\n",
       "      <th>2</th>\n",
       "      <td>3</td>\n",
       "      <td>1</td>\n",
       "      <td>3</td>\n",
       "      <td>Heikkinen, Miss. Laina</td>\n",
       "      <td>female</td>\n",
       "      <td>26.0</td>\n",
       "      <td>0</td>\n",
       "      <td>0</td>\n",
       "      <td>STON/O2. 3101282</td>\n",
       "      <td>7.9250</td>\n",
       "      <td>NaN</td>\n",
       "      <td>S</td>\n",
       "    </tr>\n",
       "    <tr>\n",
       "      <th>3</th>\n",
       "      <td>4</td>\n",
       "      <td>1</td>\n",
       "      <td>1</td>\n",
       "      <td>Futrelle, Mrs. Jacques Heath (Lily May Peel)</td>\n",
       "      <td>female</td>\n",
       "      <td>35.0</td>\n",
       "      <td>1</td>\n",
       "      <td>0</td>\n",
       "      <td>113803</td>\n",
       "      <td>53.1000</td>\n",
       "      <td>C123</td>\n",
       "      <td>S</td>\n",
       "    </tr>\n",
       "    <tr>\n",
       "      <th>4</th>\n",
       "      <td>5</td>\n",
       "      <td>0</td>\n",
       "      <td>3</td>\n",
       "      <td>Allen, Mr. William Henry</td>\n",
       "      <td>male</td>\n",
       "      <td>35.0</td>\n",
       "      <td>0</td>\n",
       "      <td>0</td>\n",
       "      <td>373450</td>\n",
       "      <td>8.0500</td>\n",
       "      <td>NaN</td>\n",
       "      <td>S</td>\n",
       "    </tr>\n",
       "  </tbody>\n",
       "</table>\n",
       "</div>"
      ],
      "text/plain": [
       "   PassengerId  Survived  Pclass  \\\n",
       "0            1         0       3   \n",
       "1            2         1       1   \n",
       "2            3         1       3   \n",
       "3            4         1       1   \n",
       "4            5         0       3   \n",
       "\n",
       "                                                Name     Sex   Age  SibSp  \\\n",
       "0                            Braund, Mr. Owen Harris    male  22.0      1   \n",
       "1  Cumings, Mrs. John Bradley (Florence Briggs Th...  female  38.0      1   \n",
       "2                             Heikkinen, Miss. Laina  female  26.0      0   \n",
       "3       Futrelle, Mrs. Jacques Heath (Lily May Peel)  female  35.0      1   \n",
       "4                           Allen, Mr. William Henry    male  35.0      0   \n",
       "\n",
       "   Parch            Ticket     Fare Cabin Embarked  \n",
       "0      0         A/5 21171   7.2500   NaN        S  \n",
       "1      0          PC 17599  71.2833   C85        C  \n",
       "2      0  STON/O2. 3101282   7.9250   NaN        S  \n",
       "3      0            113803  53.1000  C123        S  \n",
       "4      0            373450   8.0500   NaN        S  "
      ]
     },
     "execution_count": 1,
     "metadata": {},
     "output_type": "execute_result"
    }
   ],
   "source": [
    "import pandas as pd\n",
    "df = pd.read_csv(\"train.csv\")\n",
    "df.head()\n"
   ]
  },
  {
   "cell_type": "code",
   "execution_count": 2,
   "metadata": {},
   "outputs": [
    {
     "name": "stdout",
     "output_type": "stream",
     "text": [
      "(891, 12)\n",
      "PassengerId      0\n",
      "Survived         0\n",
      "Pclass           0\n",
      "Name             0\n",
      "Sex              0\n",
      "Age            177\n",
      "SibSp            0\n",
      "Parch            0\n",
      "Ticket           0\n",
      "Fare             0\n",
      "Cabin          687\n",
      "Embarked         2\n",
      "dtype: int64\n",
      "     PassengerId  Survived  Pclass                                       Name  \\\n",
      "61            62         1       1                        Icard, Miss. Amelie   \n",
      "829          830         1       1  Stone, Mrs. George Nelson (Martha Evelyn)   \n",
      "\n",
      "        Sex   Age  SibSp  Parch  Ticket  Fare Cabin Embarked  \n",
      "61   female  38.0      0      0  113572  80.0   B28      NaN  \n",
      "829  female  62.0      0      0  113572  80.0   B28      NaN  \n"
     ]
    }
   ],
   "source": [
    "print(df.shape)\n",
    "\n",
    "## check missing values\n",
    "\n",
    "print(df.isnull().sum())\n",
    "\n",
    "print(df[df.Embarked.isnull()])\n"
   ]
  },
  {
   "cell_type": "code",
   "execution_count": 3,
   "metadata": {},
   "outputs": [
    {
     "name": "stdout",
     "output_type": "stream",
     "text": [
      "0    549\n",
      "1    342\n",
      "Name: Survived, dtype: int64\n"
     ]
    }
   ],
   "source": [
    "\n",
    "\"\"\"- Survived: 0 = No, 1 = Yes\n",
    "\n",
    "- pclass: Ticket class 1 = 1st, 2 = 2nd, 3 = 3rd\n",
    "\n",
    "- sibsp: siblings / spouses aboard the Titanic\n",
    "\n",
    "- parch: parents / children aboard the Titanic\n",
    "\n",
    "- ticket: Ticket number\n",
    "\n",
    "- cabin: Cabin number\n",
    "\n",
    "- embarked: Port of Embarkation C = Cherbourg, Q = Queenstown, S = Southampton\n",
    "\"\"\"\n",
    "# death and survived count\n",
    "\n",
    "print(df.Survived.value_counts()) #display no of counts for each unique value\n"
   ]
  },
  {
   "cell_type": "code",
   "execution_count": 4,
   "metadata": {},
   "outputs": [
    {
     "name": "stdout",
     "output_type": "stream",
     "text": [
      "min         0.000000\n",
      "max       512.329200\n",
      "mean       32.204208\n",
      "median     14.454200\n",
      "Name: Fare, dtype: float64\n",
      "     PassengerId  Survived  Pclass                                   Name  \\\n",
      "258          259         1       1                       Ward, Miss. Anna   \n",
      "737          738         1       1                 Lesurer, Mr. Gustave J   \n",
      "679          680         1       1     Cardeza, Mr. Thomas Drake Martinez   \n",
      "88            89         1       1             Fortune, Miss. Mabel Helen   \n",
      "27            28         0       1         Fortune, Mr. Charles Alexander   \n",
      "341          342         1       1         Fortune, Miss. Alice Elizabeth   \n",
      "438          439         0       1                      Fortune, Mr. Mark   \n",
      "311          312         1       1             Ryerson, Miss. Emily Borie   \n",
      "742          743         1       1  Ryerson, Miss. Susan Parker \"Suzette\"   \n",
      "118          119         0       1               Baxter, Mr. Quigg Edmond   \n",
      "\n",
      "        Sex   Age  SibSp  Parch    Ticket      Fare            Cabin Embarked  \n",
      "258  female  35.0      0      0  PC 17755  512.3292              NaN        C  \n",
      "737    male  35.0      0      0  PC 17755  512.3292             B101        C  \n",
      "679    male  36.0      0      1  PC 17755  512.3292      B51 B53 B55        C  \n",
      "88   female  23.0      3      2     19950  263.0000      C23 C25 C27        S  \n",
      "27     male  19.0      3      2     19950  263.0000      C23 C25 C27        S  \n",
      "341  female  24.0      3      2     19950  263.0000      C23 C25 C27        S  \n",
      "438    male  64.0      1      4     19950  263.0000      C23 C25 C27        S  \n",
      "311  female  18.0      2      2  PC 17608  262.3750  B57 B59 B63 B66        C  \n",
      "742  female  21.0      2      2  PC 17608  262.3750  B57 B59 B63 B66        C  \n",
      "118    male  24.0      0      1  PC 17558  247.5208          B58 B60        C  \n",
      "23.2\n",
      "7.0\n"
     ]
    }
   ],
   "source": [
    "\"\"\"## plot relationship between survived feature and other feature\"\"\"\n",
    "\n",
    "#import seaborn as sns\n",
    "import matplotlib.pyplot as plt\n",
    "import numpy as np\n",
    "\n",
    "print(df.Fare.agg(['min','max','mean','median']))\n",
    "\n",
    "print(df.sort_values('Fare',ascending=False)[:10])\n",
    "\n",
    "a=[5,7,8,6,90]  #90 is a outlier\n",
    "print(np.mean(a))\n",
    "\n",
    "print(np.median(a))\n"
   ]
  },
  {
   "cell_type": "code",
   "execution_count": 5,
   "metadata": {},
   "outputs": [
    {
     "data": {
      "image/png": "[encoded data removed]",
      "text/plain": [
       "<Figure size 432x288 with 1 Axes>"
      ]
     },
     "metadata": {
      "needs_background": "light"
     },
     "output_type": "display_data"
    }
   ],
   "source": [
    "plt.hist(df.Fare,bins=30)\n",
    "plt.xlabel('Fare')\n",
    "plt.ylabel('no of people')\n",
    "plt.show()\n"
   ]
  },
  {
   "cell_type": "code",
   "execution_count": 6,
   "metadata": {},
   "outputs": [
    {
     "data": {
      "image/png": "[encoded data removed]",
      "text/plain": [
       "<Figure size 432x288 with 1 Axes>"
      ]
     },
     "metadata": {
      "needs_background": "light"
     },
     "output_type": "display_data"
    }
   ],
   "source": [
    "#f[(df.Fare>30) & (df.Fare<60)]\n",
    "\n",
    "df.Age.agg(['min','max','mean','median'])\n",
    "\n",
    "plt.hist(df.Age,bins=35)\n",
    "plt.xlabel('Fare')\n",
    "plt.ylabel('no of people')\n",
    "plt.show()\n"
   ]
  },
  {
   "cell_type": "code",
   "execution_count": 7,
   "metadata": {},
   "outputs": [
    {
     "name": "stdout",
     "output_type": "stream",
     "text": [
      "female    233\n",
      "male      109\n",
      "Name: Sex, dtype: int64\n",
      "male      468\n",
      "female     81\n",
      "Name: Sex, dtype: int64\n"
     ]
    },
    {
     "data": {
      "image/png": "[encoded data removed]",
      "text/plain": [
       "<Figure size 432x288 with 1 Axes>"
      ]
     },
     "metadata": {
      "needs_background": "light"
     },
     "output_type": "display_data"
    }
   ],
   "source": [
    "survived=df[df['Survived']==1].Sex.value_counts()\n",
    "print(survived)\n",
    "\n",
    "dead=df[df['Survived']==0].Sex.value_counts()\n",
    "print(dead)\n",
    "\n",
    "survived=df[df['Survived']==1].Sex.value_counts()\n",
    "\n",
    "dead=df[df['Survived']==0].Sex.value_counts()\n",
    "\n",
    "df_new = pd.DataFrame([survived,dead])\n",
    "df_new.index = ['Survived','Dead']\n",
    "df_new.plot(kind='bar',stacked=True)\n",
    "plt.show()"
   ]
  },
  {
   "cell_type": "code",
   "execution_count": 8,
   "metadata": {},
   "outputs": [
    {
     "data": {
      "image/png": "[encoded data removed]",
      "text/plain": [
       "<Figure size 432x288 with 1 Axes>"
      ]
     },
     "metadata": {
      "needs_background": "light"
     },
     "output_type": "display_data"
    }
   ],
   "source": [
    "survived=df[df['Survived']==1].Pclass.value_counts()\n",
    "dead=df[df['Survived']==0].Pclass.value_counts()\n",
    "df_new = pd.DataFrame([survived,dead])\n",
    "df_new.index = ['Survived','Dead']\n",
    "df_new.plot(kind='bar',stacked=True)\n",
    "plt.show()\n"
   ]
  },
  {
   "cell_type": "code",
   "execution_count": 9,
   "metadata": {},
   "outputs": [
    {
     "name": "stdout",
     "output_type": "stream",
     "text": [
      "Index(['PassengerId', 'Survived', 'Pclass', 'Name', 'Sex', 'Age', 'SibSp',\n",
      "       'Parch', 'Ticket', 'Fare', 'Cabin', 'Embarked'],\n",
      "      dtype='object')\n"
     ]
    }
   ],
   "source": [
    "\"\"\"#### 1st class more likely survivied than other classes\n",
    "\n",
    "#### 3rd class more likely dead than other classes\n",
    "\"\"\"\n",
    "\n",
    "print(df.columns)\n"
   ]
  },
  {
   "cell_type": "code",
   "execution_count": 10,
   "metadata": {},
   "outputs": [
    {
     "name": "stdout",
     "output_type": "stream",
     "text": [
      "     Pclass     Sex   Age     Fare\n",
      "0         3    male  22.0   7.2500\n",
      "1         1  female  38.0  71.2833\n",
      "2         3  female  26.0   7.9250\n",
      "3         1  female  35.0  53.1000\n",
      "4         3    male  35.0   8.0500\n",
      "..      ...     ...   ...      ...\n",
      "886       2    male  27.0  13.0000\n",
      "887       1  female  19.0  30.0000\n",
      "888       3  female   NaN  23.4500\n",
      "889       1    male  26.0  30.0000\n",
      "890       3    male  32.0   7.7500\n",
      "\n",
      "[891 rows x 4 columns]\n",
      "   Pclass     Sex   Age     Fare\n",
      "0       3    male  22.0   7.2500\n",
      "1       1  female  38.0  71.2833\n",
      "2       3  female  26.0   7.9250\n",
      "3       1  female  35.0  53.1000\n",
      "4       3    male  35.0   8.0500\n"
     ]
    }
   ],
   "source": [
    "# to show specified rows column\n",
    "df_1 = df.loc[:,['Pclass','Sex','Age','Fare']]\n",
    "\n",
    "print(df_1)\n",
    "\n",
    "\"\"\"### label encoding\n",
    "### one hot encoding\n",
    "\"\"\"\n",
    "\n",
    "\n",
    "print(df_1.head())\n"
   ]
  },
  {
   "cell_type": "code",
   "execution_count": 11,
   "metadata": {},
   "outputs": [
    {
     "name": "stdout",
     "output_type": "stream",
     "text": [
      "   female  male\n",
      "0       0     1\n",
      "1       1     0\n",
      "2       1     0\n",
      "3       1     0\n",
      "4       0     1\n",
      "PassengerId      int64\n",
      "Survived         int64\n",
      "Pclass           int64\n",
      "Name            object\n",
      "Sex             object\n",
      "Age            float64\n",
      "SibSp            int64\n",
      "Parch            int64\n",
      "Ticket          object\n",
      "Fare           float64\n",
      "Cabin           object\n",
      "Embarked        object\n",
      "dtype: object\n",
      "   Pclass   Age     Fare\n",
      "0       3  22.0   7.2500\n",
      "1       1  38.0  71.2833\n",
      "2       3  26.0   7.9250\n",
      "3       1  35.0  53.1000\n",
      "4       3  35.0   8.0500\n",
      "   Pclass   Age     Fare  female  male\n",
      "0       3  22.0   7.2500       0     1\n",
      "1       1  38.0  71.2833       1     0\n",
      "2       3  26.0   7.9250       1     0\n",
      "3       1  35.0  53.1000       1     0\n",
      "4       3  35.0   8.0500       0     1\n"
     ]
    }
   ],
   "source": [
    "#df_1.Sex=df_1.Sex.map({\"male\": 0, \"female\": 1})  #label encod\n",
    "\n",
    "#pd.get_dummies(df_1['Sex'])\n",
    "\n",
    "c1=pd.get_dummies(df_1['Sex'])  #one hot encoding\n",
    "print(c1.head())\n",
    "\n",
    "print(df.dtypes)\n",
    "\n",
    "c2 = df_1.select_dtypes(exclude=['object'])  #int ,float\n",
    "print(c2.head())\n",
    "\n",
    "final_data = pd.concat([c2,c1],axis=1)\n",
    "print(final_data.head())"
   ]
  },
  {
   "cell_type": "code",
   "execution_count": 12,
   "metadata": {},
   "outputs": [
    {
     "name": "stdout",
     "output_type": "stream",
     "text": [
      "   Pclass   Age     Fare  female  male\n",
      "0       3  22.0   7.2500       0     1\n",
      "1       1  38.0  71.2833       1     0\n",
      "2       3  26.0   7.9250       1     0\n",
      "3       1  35.0  53.1000       1     0\n",
      "4       3  35.0   8.0500       0     1\n",
      "Pclass      0\n",
      "Age       177\n",
      "Fare        0\n",
      "female      0\n",
      "male        0\n",
      "dtype: int64\n",
      "28.0\n",
      "Pclass    0\n",
      "Age       0\n",
      "Fare      0\n",
      "female    0\n",
      "male      0\n",
      "dtype: int64\n",
      "(891, 5)\n",
      "(891,)\n",
      "0.0\n"
     ]
    }
   ],
   "source": [
    "#df_1.head()\n",
    "print(final_data.head())\n",
    "\n",
    "print(final_data.isnull().sum())\n",
    "\n",
    "print(final_data.Age.median())\n",
    "\n",
    "final_data.Age = final_data.Age.fillna(final_data.Age.median())\n",
    "\n",
    "print(final_data.isnull().sum())\n",
    "\n",
    "X = final_data.values\n",
    "\n",
    "y = df.Survived.values\n",
    "\n",
    "print(X.shape)\n",
    "\n",
    "print(y.shape)\n",
    "\n",
    "print(X.min())\n"
   ]
  },
  {
   "cell_type": "code",
   "execution_count": 13,
   "metadata": {},
   "outputs": [
    {
     "name": "stdout",
     "output_type": "stream",
     "text": [
      "LogisticRegression()\n"
     ]
    }
   ],
   "source": [
    "#y\n",
    "\n",
    "from sklearn.preprocessing import StandardScaler,MinMaxScaler\n",
    "from sklearn.model_selection import train_test_split\n",
    "\n",
    "xtrain,xtest,ytrain,ytest = train_test_split(X,y,test_size=.25,random_state=12)\n",
    "\n",
    "std = StandardScaler()\n",
    "\n",
    "Xtrain_std = std.fit_transform(xtrain)\n",
    "Xtest_std = std.transform(xtest)\n",
    "\n",
    "# from sklearn.svm import SVC\n",
    "\n",
    "# log = SVC()\n",
    "# from sklearn.ensemble import RandomForestClassifier\n",
    "# log = RandomForestClassifier()\n",
    "from sklearn.linear_model import LogisticRegression\n",
    "\n",
    "log = LogisticRegression()\n",
    "print(log.fit(Xtrain_std,ytrain))\n",
    "\n",
    "pred = log.predict(Xtest_std)\n",
    "\n",
    "from sklearn.metrics import accuracy_score\n",
    "\n"
   ]
  },
  {
   "cell_type": "code",
   "execution_count": 14,
   "metadata": {},
   "outputs": [
    {
     "name": "stdout",
     "output_type": "stream",
     "text": [
      "0.7802690582959642\n"
     ]
    }
   ],
   "source": [
    "print(accuracy_score(ytest,pred))"
   ]
  },
  {
   "cell_type": "code",
   "execution_count": null,
   "metadata": {},
   "outputs": [],
   "source": []
  }
 ],
 "metadata": {
  "kernelspec": {
   "display_name": "Python 3",
   "language": "python",
   "name": "python3"
  },
  "language_info": {
   "codemirror_mode": {
    "name": "ipython",
    "version": 3
   },
   "file_extension": ".py",
   "mimetype": "text/x-python",
   "name": "python",
   "nbconvert_exporter": "python",
   "pygments_lexer": "ipython3",
   "version": "3.8.5"
  }
 },
 "nbformat": 4,
 "nbformat_minor": 4
}
